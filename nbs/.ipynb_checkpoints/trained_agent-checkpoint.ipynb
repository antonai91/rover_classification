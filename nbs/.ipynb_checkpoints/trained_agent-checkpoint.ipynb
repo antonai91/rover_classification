{
 "cells": [
  {
   "cell_type": "code",
   "execution_count": 1,
   "metadata": {},
   "outputs": [],
   "source": [
    "import sys\n",
    "sys.path.append(\"../src\")\n",
    "import gym\n",
    "import pybullet_envs\n",
    "import tensorflow as tf\n",
    "import numpy as np\n",
    "from tqdm import tqdm\n",
    "import wandb\n",
    "from config import *\n",
    "from replay_buffer import *\n",
    "from networks import *\n",
    "from agent import *"
   ]
  },
  {
   "cell_type": "code",
   "execution_count": 2,
   "metadata": {},
   "outputs": [],
   "source": [
    "from utilities import *"
   ]
  },
  {
   "cell_type": "code",
   "execution_count": 3,
   "metadata": {},
   "outputs": [],
   "source": [
    "import imageio\n",
    "import random\n",
    "import numpy as np\n",
    "import cv2\n",
    "import base64\n",
    "import IPython"
   ]
  },
  {
   "cell_type": "code",
   "execution_count": 4,
   "metadata": {},
   "outputs": [
    {
     "name": "stderr",
     "output_type": "stream",
     "text": [
      "/Users/anton/.conda/envs/reinforcement_learning/lib/python3.8/site-packages/gym/logger.py:30: UserWarning: \u001b[33mWARN: Box bound precision lowered by casting to float32\u001b[0m\n",
      "  warnings.warn(colorize('%s: %s'%('WARN', msg % args), 'yellow'))\n"
     ]
    }
   ],
   "source": [
    "env = gym.make(ENV_NAME)\n",
    "agent = Agent(env)\n",
    "\n",
    "scores = []\n",
    "evaluation = True"
   ]
  },
  {
   "cell_type": "code",
   "execution_count": 5,
   "metadata": {},
   "outputs": [
    {
     "name": "stdout",
     "output_type": "stream",
     "text": [
      "loading weights\n",
      "488989\n",
      "482190\n"
     ]
    }
   ],
   "source": [
    "if PATH_LOAD is not None:\n",
    "    print(\"loading weights\")\n",
    "    observation = env.reset()\n",
    "    action, log_probs = agent.actor.get_action_log_probs(observation[None, :], False)\n",
    "    agent.actor(observation[None, :])\n",
    "    agent.critic_0(observation[None, :], action)\n",
    "    agent.critic_1(observation[None, :], action)\n",
    "    agent.critic_value(observation[None, :])\n",
    "    agent.critic_target_value(observation[None, :])\n",
    "    agent.load()\n",
    "    print(agent.replay_buffer.buffer_counter)\n",
    "    print(agent.replay_buffer.n_games)"
   ]
  },
  {
   "cell_type": "code",
   "execution_count": 6,
   "metadata": {},
   "outputs": [
    {
     "data": {
      "text/plain": [
       "(1, 44)"
      ]
     },
     "execution_count": 6,
     "metadata": {},
     "output_type": "execute_result"
    }
   ],
   "source": [
    "env.reset()[None, :].shape"
   ]
  },
  {
   "cell_type": "code",
   "execution_count": 8,
   "metadata": {},
   "outputs": [
    {
     "data": {
      "text/plain": [
       "<tf.Tensor: shape=(1, 17), dtype=float32, numpy=\n",
       "array([[-0.59668344, -0.4360211 , -0.53920275,  0.2454758 ,  0.8216807 ,\n",
       "         0.5705646 ,  0.5208664 ,  0.5395289 ,  0.86072266,  0.262774  ,\n",
       "         0.09059512,  0.43103045, -0.43996397,  0.18493879, -0.7770544 ,\n",
       "        -0.23792383,  0.4766466 ]], dtype=float32)>"
      ]
     },
     "execution_count": 8,
     "metadata": {},
     "output_type": "execute_result"
    }
   ],
   "source": [
    "action"
   ]
  },
  {
   "cell_type": "code",
   "execution_count": 9,
   "metadata": {},
   "outputs": [
    {
     "name": "stderr",
     "output_type": "stream",
     "text": [
      "100%|██████████| 10000/10000 [05:13<00:00, 31.91it/s]\n"
     ]
    }
   ],
   "source": [
    "with imageio.get_writer(\"../video/trained_agent.mp4\", fps=60) as video:\n",
    "    terminal = True\n",
    "    for frame in tqdm(range(10000)):\n",
    "        if terminal:\n",
    "            states = env.reset()\n",
    "            terminal = False\n",
    "        \n",
    "        action = agent.get_action(states[None, :])\n",
    "\n",
    "        # Step action\n",
    "        states, reward, terminal, info = env.step(action[0])\n",
    "\n",
    "        video.append_data(env.render(mode='rgb_array'))"
   ]
  }
 ],
 "metadata": {
  "kernelspec": {
   "display_name": "Python 3",
   "language": "python",
   "name": "python3"
  },
  "language_info": {
   "codemirror_mode": {
    "name": "ipython",
    "version": 3
   },
   "file_extension": ".py",
   "mimetype": "text/x-python",
   "name": "python",
   "nbconvert_exporter": "python",
   "pygments_lexer": "ipython3",
   "version": "3.8.5"
  }
 },
 "nbformat": 4,
 "nbformat_minor": 4
}
